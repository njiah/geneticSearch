{
 "cells": [
  {
   "cell_type": "markdown",
   "metadata": {},
   "source": [
    "# Let's find out who's the most compatible!"
   ]
  },
  {
   "cell_type": "markdown",
   "metadata": {},
   "source": [
    "First, we're importing some libraries."
   ]
  },
  {
   "cell_type": "code",
   "execution_count": 3,
   "metadata": {},
   "outputs": [],
   "source": [
    "import pandas as pd\n",
    "import random\n",
    "import heapq\n",
    "from IPython.display import Markdown, display   \n",
    "from NSA import calculate_score"
   ]
  },
  {
   "cell_type": "markdown",
   "metadata": {},
   "source": [
    "Now we're defining some choices from the form."
   ]
  },
  {
   "cell_type": "code",
   "execution_count": 93,
   "metadata": {},
   "outputs": [],
   "source": [
    "possibilites = {}   \n",
    "possibilites['Sexuality'] = ['Heterosexual', 'Bisexual', 'Homosexual']\n",
    "possibilites['MBTI'] = ['INTJ', 'INTP', 'ENTJ', 'ENTP', 'INFJ', 'INFP', 'ENFJ', 'ENFP', 'ISTJ', 'ISFJ', 'ESTJ', 'ESFJ', 'ISTP', 'ISFP', 'ESTP', 'ESFP']\n",
    "possibilites['Hobbies'] = ['Photography', 'Gaming', 'Cooking/ Baking', 'Fitness', 'Arts and Crafts', 'Music', 'Reading', 'Writing', 'Gardening', 'Dancing', 'Travelling']\n",
    "possibilites['Social Activities'] = ['Pub crawls', 'Club nights', 'Game nights', 'Potluck dinners', 'Outdoor activities', 'Workshops/ Skill-building events', 'Study groups', 'Sports tournaments', 'Karaoke nights', 'Food tasting']\n",
    "possibilites['Looking For'] = ['A serious relationship', 'Casual dating to get to know someone', 'Making new friends']\n",
    "possibilites['Energy Level'] = ['High-energy and adventurous', 'Balanced and adaptable', 'Laid-back and relax']\n",
    "possibilites['Friday Night'] = ['Going out for a fun night with friends', 'Relaxing at home with a good movie or book', 'Exploring something new, like a restaurant or event', 'Working on personal projects or hobbies', 'Hitting the gym or doing something active', 'Attending a concert, show, or live performance', 'Drinking with friends at home or go clubbing']\n",
    "possibilites['Favorite Beverage'] = ['Coffee', 'Tea', 'Cocktail','Wine', 'Beer',  'Smoothie/ juice']\n",
    "possibilites['Sense of Humor'] = ['Quirky and random', 'Sarcastic and witty', 'Goofy and playful', 'Dry and subtle', 'Lighthearted and wholesome']"
   ]
  },
  {
   "cell_type": "markdown",
   "metadata": {},
   "source": [
    "### Let's do some calculation!\n",
    "We have:"
   ]
  },
  {
   "cell_type": "code",
   "execution_count": 97,
   "metadata": {},
   "outputs": [
    {
     "data": {
      "text/markdown": [
       "- 3 different Sexualities"
      ],
      "text/plain": [
       "<IPython.core.display.Markdown object>"
      ]
     },
     "metadata": {},
     "output_type": "display_data"
    },
    {
     "data": {
      "text/markdown": [
       "- 16 different MBTI types"
      ],
      "text/plain": [
       "<IPython.core.display.Markdown object>"
      ]
     },
     "metadata": {},
     "output_type": "display_data"
    },
    {
     "data": {
      "text/markdown": [
       "- 11 different Hobbies"
      ],
      "text/plain": [
       "<IPython.core.display.Markdown object>"
      ]
     },
     "metadata": {},
     "output_type": "display_data"
    },
    {
     "data": {
      "text/markdown": [
       "- 10 different Social Activities"
      ],
      "text/plain": [
       "<IPython.core.display.Markdown object>"
      ]
     },
     "metadata": {},
     "output_type": "display_data"
    },
    {
     "data": {
      "text/markdown": [
       "- 3 types of what people are looking for"
      ],
      "text/plain": [
       "<IPython.core.display.Markdown object>"
      ]
     },
     "metadata": {},
     "output_type": "display_data"
    },
    {
     "data": {
      "text/markdown": [
       "- 3 energy levels"
      ],
      "text/plain": [
       "<IPython.core.display.Markdown object>"
      ]
     },
     "metadata": {},
     "output_type": "display_data"
    },
    {
     "data": {
      "text/markdown": [
       "- 7 different Friday night activities"
      ],
      "text/plain": [
       "<IPython.core.display.Markdown object>"
      ]
     },
     "metadata": {},
     "output_type": "display_data"
    },
    {
     "data": {
      "text/markdown": [
       "- 6 different favourite beverages"
      ],
      "text/plain": [
       "<IPython.core.display.Markdown object>"
      ]
     },
     "metadata": {},
     "output_type": "display_data"
    },
    {
     "data": {
      "text/markdown": [
       "- 5 different types of humour"
      ],
      "text/plain": [
       "<IPython.core.display.Markdown object>"
      ]
     },
     "metadata": {},
     "output_type": "display_data"
    }
   ],
   "source": [
    "display(Markdown(f'- {len(possibilites[\"Sexuality\"])} different Sexualities'))\n",
    "display(Markdown(f'- {len(possibilites[\"MBTI\"])} different MBTI types'))\n",
    "display(Markdown(f'- {len(possibilites[\"Hobbies\"])} different Hobbies'))\n",
    "display(Markdown(f'- {len(possibilites[\"Social Activities\"])} different Social Activities'))\n",
    "display(Markdown(f'- {len(possibilites[\"Looking For\"])} types of what people are looking for'))\n",
    "display(Markdown(f'- {len(possibilites[\"Energy Level\"])} energy levels'))\n",
    "display(Markdown(f'- {len(possibilites[\"Friday Night\"])} different Friday night activities'))\n",
    "display(Markdown(f'- {len(possibilites[\"Favorite Beverage\"])} different favourite beverages'))\n",
    "display(Markdown(f'- {len(possibilites[\"Sense of Humor\"])} different types of humour'))"
   ]
  },
  {
   "cell_type": "markdown",
   "metadata": {},
   "source": [
    "To get the possible choices, here's the formula:\n",
    "$$\n",
    "x = 3 \\times 16 \\times (2^{11} -1) \\times (2^{10} -1) \\times 3 \\times 3 \\times (2^{7} -1) \\times (2^{6} -1) \\times 5\n",
    "$$"
   ]
  },
  {
   "cell_type": "code",
   "execution_count": 98,
   "metadata": {},
   "outputs": [
    {
     "data": {
      "text/markdown": [
       "Now we have the number `36190242894960`, which is the search space we're going to explore."
      ],
      "text/plain": [
       "<IPython.core.display.Markdown object>"
      ]
     },
     "metadata": {},
     "output_type": "display_data"
    }
   ],
   "source": [
    "no_of_possible_combinations = len(possibilites[\"Sexuality\"]) * len(possibilites[\"MBTI\"]) * (pow(2, len(possibilites[\"Hobbies\"]))-1) * (pow(2, len(possibilites[\"Social Activities\"]))-1) * len(possibilites[\"Looking For\"]) * len(possibilites[\"Energy Level\"]) * (pow(2, len(possibilites[\"Friday Night\"]))-1) * (pow(2, len(possibilites[\"Favorite Beverage\"]))-1) * len(possibilites[\"Sense of Humor\"])\n",
    "display(Markdown(f\"Now we have the number `{no_of_possible_combinations}`, which is the search space we're going to explore.\"))"
   ]
  },
  {
   "cell_type": "markdown",
   "metadata": {},
   "source": [
    "#### BUT\n",
    "It is going to be computationally expensive to explore all that search space. <br>\n",
    "So, let's use the Genetic algorithm."
   ]
  },
  {
   "cell_type": "code",
   "execution_count": 24,
   "metadata": {},
   "outputs": [
    {
     "data": {
      "text/markdown": [
       "Here we found the best score to be `20` which is the maximum score possible and the best pair to be:"
      ],
      "text/plain": [
       "<IPython.core.display.Markdown object>"
      ]
     },
     "metadata": {},
     "output_type": "display_data"
    },
    {
     "data": {
      "text/html": [
       "<div>\n",
       "<style scoped>\n",
       "    .dataframe tbody tr th:only-of-type {\n",
       "        vertical-align: middle;\n",
       "    }\n",
       "\n",
       "    .dataframe tbody tr th {\n",
       "        vertical-align: top;\n",
       "    }\n",
       "\n",
       "    .dataframe thead th {\n",
       "        text-align: right;\n",
       "    }\n",
       "</style>\n",
       "<table border=\"1\" class=\"dataframe\">\n",
       "  <thead>\n",
       "    <tr style=\"text-align: right;\">\n",
       "      <th></th>\n",
       "      <th>Person 1</th>\n",
       "      <th>Person 2</th>\n",
       "    </tr>\n",
       "  </thead>\n",
       "  <tbody>\n",
       "    <tr>\n",
       "      <th>Sexuality</th>\n",
       "      <td>Bisexual</td>\n",
       "      <td>Heterosexual</td>\n",
       "    </tr>\n",
       "    <tr>\n",
       "      <th>Gender</th>\n",
       "      <td>female</td>\n",
       "      <td>male</td>\n",
       "    </tr>\n",
       "    <tr>\n",
       "      <th>MBTI</th>\n",
       "      <td>ENFP</td>\n",
       "      <td>ENFJ</td>\n",
       "    </tr>\n",
       "    <tr>\n",
       "      <th>Hobbies</th>\n",
       "      <td>Music, Dancing, Travelling, Arts and Crafts, R...</td>\n",
       "      <td>Travelling, Fitness, Arts and Crafts, Photogra...</td>\n",
       "    </tr>\n",
       "    <tr>\n",
       "      <th>Social Activities</th>\n",
       "      <td>Pub crawls, Game nights, Karaoke nights, Outdo...</td>\n",
       "      <td>Game nights, Food tasting, Outdoor activities,...</td>\n",
       "    </tr>\n",
       "    <tr>\n",
       "      <th>Looking For</th>\n",
       "      <td>A serious relationship</td>\n",
       "      <td>Making new friends</td>\n",
       "    </tr>\n",
       "    <tr>\n",
       "      <th>Energy Level</th>\n",
       "      <td>Balanced and adaptable</td>\n",
       "      <td>High-energy and adventurous</td>\n",
       "    </tr>\n",
       "    <tr>\n",
       "      <th>Friday Night</th>\n",
       "      <td>Attending a concert, show, or live performance...</td>\n",
       "      <td>Relaxing at home with a good movie or book</td>\n",
       "    </tr>\n",
       "    <tr>\n",
       "      <th>Favorite Beverage</th>\n",
       "      <td>Coffee, Beer, Wine, Cocktail, Smoothie/ juice</td>\n",
       "      <td>Smoothie/ juice, Beer, Coffee, Wine</td>\n",
       "    </tr>\n",
       "    <tr>\n",
       "      <th>Sense of Humor</th>\n",
       "      <td>Goofy and playful</td>\n",
       "      <td>Goofy and playful</td>\n",
       "    </tr>\n",
       "  </tbody>\n",
       "</table>\n",
       "</div>"
      ],
      "text/plain": [
       "                                                            Person 1                                           Person 2\n",
       "Sexuality                                                   Bisexual                                       Heterosexual\n",
       "Gender                                                        female                                               male\n",
       "MBTI                                                            ENFP                                               ENFJ\n",
       "Hobbies            Music, Dancing, Travelling, Arts and Crafts, R...  Travelling, Fitness, Arts and Crafts, Photogra...\n",
       "Social Activities  Pub crawls, Game nights, Karaoke nights, Outdo...  Game nights, Food tasting, Outdoor activities,...\n",
       "Looking For                                   A serious relationship                                 Making new friends\n",
       "Energy Level                                  Balanced and adaptable                        High-energy and adventurous\n",
       "Friday Night       Attending a concert, show, or live performance...         Relaxing at home with a good movie or book\n",
       "Favorite Beverage      Coffee, Beer, Wine, Cocktail, Smoothie/ juice                Smoothie/ juice, Beer, Coffee, Wine\n",
       "Sense of Humor                                     Goofy and playful                                  Goofy and playful"
      ]
     },
     "metadata": {},
     "output_type": "display_data"
    }
   ],
   "source": [
    "from genetic_matchmaking import best_score, best_pair\n",
    "\n",
    "display(Markdown(f'Here we found the best score to be `{best_score}` which is the maximum score possible and the best pair to be:'))\n",
    "person1 = pd.Series(best_pair[0])\n",
    "person2 = pd.Series(best_pair[1])\n",
    "data = pd.DataFrame([person1, person2], index=['Person 1', 'Person 2']) \n",
    "data = data.transpose()\n",
    "display(data)\n"
   ]
  },
  {
   "cell_type": "markdown",
   "metadata": {},
   "source": [
    "You can explore the Genetic Alogrithm [here](/Genetic_matchmaking.ipynb)."
   ]
  }
 ],
 "metadata": {
  "kernelspec": {
   "display_name": "Python 3",
   "language": "python",
   "name": "python3"
  },
  "language_info": {
   "codemirror_mode": {
    "name": "ipython",
    "version": 3
   },
   "file_extension": ".py",
   "mimetype": "text/x-python",
   "name": "python",
   "nbconvert_exporter": "python",
   "pygments_lexer": "ipython3",
   "version": "3.12.1"
  }
 },
 "nbformat": 4,
 "nbformat_minor": 2
}
