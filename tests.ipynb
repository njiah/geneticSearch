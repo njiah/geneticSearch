{
 "cells": [
  {
   "cell_type": "markdown",
   "metadata": {},
   "source": [
    "# Let's find out who's the most compatible!"
   ]
  },
  {
   "cell_type": "markdown",
   "metadata": {},
   "source": [
    "First, we're importing some libraries."
   ]
  },
  {
   "cell_type": "code",
   "execution_count": 28,
   "metadata": {},
   "outputs": [],
   "source": [
    "import csv\n",
    "import pandas as pd\n",
    "from  csv import DictReader\n",
    "from NSA import mbti_compatibility_score, calculate_score, matchmaking, create_diverse_schedule, assign_tables, generate_participant_match_list"
   ]
  },
  {
   "cell_type": "code",
   "execution_count": 29,
   "metadata": {},
   "outputs": [],
   "source": [
    "#making csv\n",
    "with open('csvfile.csv', 'w', newline='') as csvfile:\n",
    "    writer = csv.writer(csvfile)\n",
    "    fields = ['Name', 'Hobbies', 'Social Activities', 'Looking For', 'Energy Level', 'Friday Night', 'Favorite Beverage', 'Sense of Humor', 'MBTI', 'Gender', 'Sexuality']\n",
    "\n",
    "    writer.writerow(fields)\n",
    "    writer.writerow(['Jiah', 'Gaming, Fitness, Travelling', 'Pub crawls, Potluck dinners, Study groups', 'Casual dating', 'Balanced', 'Going out, Relaxing, Hitting the gym', 'Coffee, Tea, Wine', 'Sarcastic and witty', 'ENTP', 'female', 'Bisexual'])\n",
    "    writer.writerow(['Jiah2', 'Gaming, Fitness, Travelling', 'Pub crawls, Potluck dinners, Study groups', 'Casual dating', 'Balanced', 'Going out, Relaxing, Hitting the gym', 'Coffee, Tea, Wine', 'Sarcastic and witty', 'ENTP', 'female', 'Bisexual'])    "
   ]
  },
  {
   "cell_type": "code",
   "execution_count": 35,
   "metadata": {},
   "outputs": [],
   "source": [
    "hobbies = ['Photography', 'Gaming', 'Cooking/ Baking', 'Fitness', 'Arts and Crafts', 'Music', 'Reading', 'Writing', 'Gardening', 'Dancing', 'Travelling']\n",
    "social = ['Pub crawls', 'Club nights', 'Game nights', 'Potluck dinners', 'Outdoor activities', 'Workshops/ Skill-building events', 'Study groups', 'Sports tournaments', 'Karaoke nights', 'Food tasting']\n",
    "looking = ['A serious relationship', 'Casual dating to get to know someone', 'Making new friends']\n",
    "energy = ['High-energy and adventurous', 'Balanced and adaptable', 'Laid-back and relax']\n",
    "friday = ['Going out for a fun night with friends', 'Relaxing at home with a good movie or book', 'Exploring something new, like a restaurant or event', 'Working on personal projects or hobbies', 'Hitting the gym or doing something active', 'Attending a concert, show, or live performance', 'Drinking with friends at home or go clubbing']\n",
    "beverage = ['Coffee', 'Tea', 'Cocktail','Wine', 'Beer',  'Smoothie/ juice']\n",
    "humour = ['Quirky and random', 'Sarcastic and witty', 'Goofy and playful', 'Dry and subtle', 'Lighthearted and wholesome']"
   ]
  },
  {
   "cell_type": "code",
   "execution_count": 31,
   "metadata": {},
   "outputs": [
    {
     "name": "stdout",
     "output_type": "stream",
     "text": [
      "[{'Name': 'Jiah', 'Hobbies': 'Gaming, Fitness, Travelling', 'Social Activities': 'Pub crawls, Potluck dinners, Study groups', 'Looking For': 'Casual dating', 'Energy Level': 'Balanced', 'Friday Night': 'Going out, Relaxing, Hitting the gym', 'Favorite Beverage': 'Coffee, Tea, Wine', 'Sense of Humor': 'Sarcastic and witty', 'MBTI': 'ENTP', 'Gender': 'female', 'Sexuality': 'Bisexual'}, {'Name': 'Jiah2', 'Hobbies': 'Gaming, Fitness, Travelling', 'Social Activities': 'Pub crawls, Potluck dinners, Study groups', 'Looking For': 'Casual dating', 'Energy Level': 'Balanced', 'Friday Night': 'Going out, Relaxing, Hitting the gym', 'Favorite Beverage': 'Coffee, Tea, Wine', 'Sense of Humor': 'Sarcastic and witty', 'MBTI': 'ENTP', 'Gender': 'female', 'Sexuality': 'Bisexual'}]\n"
     ]
    }
   ],
   "source": [
    "with open('csvfile.csv', 'r') as csvfile:\n",
    "    reader = DictReader(csvfile)\n",
    "    list_of_participants = list(reader)\n",
    "    print(list_of_participants)"
   ]
  },
  {
   "cell_type": "code",
   "execution_count": 32,
   "metadata": {},
   "outputs": [],
   "source": [
    "participant1 = list_of_participants[0]\n",
    "participant2 = list_of_participants[1]"
   ]
  },
  {
   "cell_type": "code",
   "execution_count": 33,
   "metadata": {},
   "outputs": [
    {
     "data": {
      "text/plain": [
       "18"
      ]
     },
     "execution_count": 33,
     "metadata": {},
     "output_type": "execute_result"
    }
   ],
   "source": [
    "calculate_score(participant1, participant2)"
   ]
  },
  {
   "cell_type": "code",
   "execution_count": 34,
   "metadata": {},
   "outputs": [
    {
     "ename": "AttributeError",
     "evalue": "'DictReader' object has no attribute 'to_dict'",
     "output_type": "error",
     "traceback": [
      "\u001b[0;31m---------------------------------------------------------------------------\u001b[0m",
      "\u001b[0;31mAttributeError\u001b[0m                            Traceback (most recent call last)",
      "Cell \u001b[0;32mIn[34], line 1\u001b[0m\n\u001b[0;32m----> 1\u001b[0m \u001b[43mmatchmaking\u001b[49m\u001b[43m(\u001b[49m\u001b[43mreader\u001b[49m\u001b[43m)\u001b[49m\n",
      "File \u001b[0;32m~/Library/Mobile Documents/com~apple~CloudDocs/Portfolio/R/NSA.py:111\u001b[0m, in \u001b[0;36mmatchmaking\u001b[0;34m(data)\u001b[0m\n\u001b[1;32m    109\u001b[0m \u001b[38;5;28;01mdef\u001b[39;00m\u001b[38;5;250m \u001b[39m\u001b[38;5;21mmatchmaking\u001b[39m(data):\n\u001b[1;32m    110\u001b[0m     matches \u001b[38;5;241m=\u001b[39m []\n\u001b[0;32m--> 111\u001b[0m     \u001b[38;5;28;01mfor\u001b[39;00m p1, p2 \u001b[38;5;129;01min\u001b[39;00m itertools\u001b[38;5;241m.\u001b[39mcombinations(\u001b[43mdata\u001b[49m\u001b[38;5;241;43m.\u001b[39;49m\u001b[43mto_dict\u001b[49m(\u001b[38;5;124m'\u001b[39m\u001b[38;5;124mrecords\u001b[39m\u001b[38;5;124m'\u001b[39m), \u001b[38;5;241m2\u001b[39m):\n\u001b[1;32m    112\u001b[0m         score \u001b[38;5;241m=\u001b[39m calculate_score(p1, p2)\n\u001b[1;32m    113\u001b[0m         \u001b[38;5;28;01mif\u001b[39;00m score \u001b[38;5;241m>\u001b[39m \u001b[38;5;241m0\u001b[39m:  \u001b[38;5;66;03m# Only include valid matches\u001b[39;00m\n",
      "\u001b[0;31mAttributeError\u001b[0m: 'DictReader' object has no attribute 'to_dict'"
     ]
    }
   ],
   "source": [
    "matchmaking(reader)"
   ]
  }
 ],
 "metadata": {
  "kernelspec": {
   "display_name": ".venv",
   "language": "python",
   "name": "python3"
  },
  "language_info": {
   "codemirror_mode": {
    "name": "ipython",
    "version": 3
   },
   "file_extension": ".py",
   "mimetype": "text/x-python",
   "name": "python",
   "nbconvert_exporter": "python",
   "pygments_lexer": "ipython3",
   "version": "3.12.4"
  }
 },
 "nbformat": 4,
 "nbformat_minor": 2
}
